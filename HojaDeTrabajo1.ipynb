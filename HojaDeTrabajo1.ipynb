{
 "cells": [
  {
   "attachments": {},
   "cell_type": "markdown",
   "metadata": {},
   "source": [
    "# Git\n",
    "\n",
    "1. [¿Qué es Git?](#que_es_git) \n",
    "2. [¿Cómo funciona Git?](#como_funciona_git)\n",
    "3. [Comandos](#comandos)"
   ]
  },
  {
   "attachments": {},
   "cell_type": "markdown",
   "metadata": {},
   "source": [
    "### 1. ¿Qué es Git? <a id='que_es_git'></a>"
   ]
  },
  {
   "attachments": {},
   "cell_type": "markdown",
   "metadata": {},
   "source": [
    "En palabras sencillas, git es un software de control de versiones. Una analogía muy utilizada para ejemplificarlo es el jugar un videojuego. Una persona puede ir avanzando por diferentes niveles y guardar su progreso. Y al día siguiente (o días) que retome el juego, puede continuar exactamente en el punto donde se quedó. Git hace exactamente eso, solo que en lugar de guardar el progreso en un videojuego, almacena el código de un proyecto de desarrollo."
   ]
  },
  {
   "attachments": {},
   "cell_type": "markdown",
   "metadata": {},
   "source": [
    "### 2. ¿Cómo funciona Git? <a id='como_funciona_git'></a>"
   ]
  },
  {
   "attachments": {},
   "cell_type": "markdown",
   "metadata": {},
   "source": [
    "En un proyecto de desarrollo de código estamos acostumbrados a mantener carpetas, y dentro de esas carpetas, archivos. Así como carpetas dentro de carpetas que nos permiten mantener ordenado nuestro código. Git mantiene una “recursive data structure” definida por *trees* y *blobs*, donde los *trees* equivalen a carpetas/folders y los *blobs* equivalen a archivos. De igual manera, puedo tener *trees* dentro de otros *trees* y *blobs* dentro de *trees*."
   ]
  },
  {
   "attachments": {},
   "cell_type": "markdown",
   "metadata": {},
   "source": [
    "El *historial de versiones* son copias o *snapshots* del estado de un proyecto en el momento en que dicha copia se creó, como una fotografía. Lo que diferencia a git de otros sistemas similares de control de versiones, es el cómo maneja el almacenamiento de estos snapshots. Cuando se confirma que se quiere generar una copia, git toma esa fotografía del estado actual de todo el código y almacena una referencia a esa fotografía. Los archivos que no han sido modificados no son almacenados nuevamente (para ser más eficientes), si no que se almacena un enlace o *pointer* hacia ese archivo idéntico que ya fue guardado."
   ]
  },
  {
   "attachments": {},
   "cell_type": "markdown",
   "metadata": {},
   "source": [
    "Git maneja entonces el almacenamiento de datos como una secuencia de copias instantáneas, donde cada nuevo estado apunta hacia el anterior."
   ]
  },
  {
   "attachments": {},
   "cell_type": "markdown",
   "metadata": {},
   "source": [
    "<img src=\"images/01_apunta_anterior.png\" />"
   ]
  },
  {
   "attachments": {},
   "cell_type": "markdown",
   "metadata": {},
   "source": [
    "Pero la estructura no se debe mantener forzozamente lineal. En un proyecto de desarrollo, es muy común que las nuevas implementaciones y características se trabajen de forma paralela. Es aquí donde se hace un *branching* del código donde cada *branch* o rama es el entorno de trabajo para estos desarrollos en paralelo. Posteriormente ambas ramas pueden unirse (*merge*) para generar una nueva versión que contenga ambas características desarrolladas."
   ]
  },
  {
   "attachments": {},
   "cell_type": "markdown",
   "metadata": {},
   "source": [
    "![img02](images/02_branching_merging.png)"
   ]
  },
  {
   "attachments": {},
   "cell_type": "markdown",
   "metadata": {},
   "source": [
    "Cada snapshot contiene también metadatos: quién lo hizo, qué se hizo. Información que está en *este* snapshot pero no en el anterior. Y cada snapshot recibe un hash que lo identifica."
   ]
  },
  {
   "attachments": {},
   "cell_type": "markdown",
   "metadata": {},
   "source": [
    " ![img03](images/03_hash.png)"
   ]
  },
  {
   "attachments": {},
   "cell_type": "markdown",
   "metadata": {},
   "source": [
    "## 3. Comandos <a id='comandos'></a>"
   ]
  },
  {
   "attachments": {},
   "cell_type": "markdown",
   "metadata": {},
   "source": [
    "Para convertir nuestro folder de desarrollo en repositorio:"
   ]
  },
  {
   "cell_type": "code",
   "execution_count": null,
   "metadata": {},
   "outputs": [],
   "source": [
    "!git init"
   ]
  },
  {
   "cell_type": "code",
   "execution_count": null,
   "metadata": {},
   "outputs": [],
   "source": []
  }
 ],
 "metadata": {
  "kernelspec": {
   "display_name": "base",
   "language": "python",
   "name": "python3"
  },
  "language_info": {
   "codemirror_mode": {
    "name": "ipython",
    "version": 3
   },
   "file_extension": ".py",
   "mimetype": "text/x-python",
   "name": "python",
   "nbconvert_exporter": "python",
   "pygments_lexer": "ipython3",
   "version": "3.9.13"
  },
  "orig_nbformat": 4,
  "vscode": {
   "interpreter": {
    "hash": "578391f24f30e8e82ef419a95afa64c2c3d451ab37de2ecf9d13acddd173971b"
   }
  }
 },
 "nbformat": 4,
 "nbformat_minor": 2
}
