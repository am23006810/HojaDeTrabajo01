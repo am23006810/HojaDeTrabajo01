{
 "cells": [
  {
   "attachments": {},
   "cell_type": "markdown",
   "metadata": {},
   "source": [
    "# Git\n",
    "\n",
    "1. [¿Qué es Git?](#que_es_git) \n",
    "2. [¿Cómo funciona Git?](#como_funciona_git)\n",
    "3. [Comandos](#comandos)"
   ]
  },
  {
   "attachments": {},
   "cell_type": "markdown",
   "metadata": {},
   "source": [
    "### 1. ¿Qué es Git? <a id='que_es_git'></a>"
   ]
  },
  {
   "attachments": {},
   "cell_type": "markdown",
   "metadata": {},
   "source": [
    "En palabras sencillas, git es un software de control de versiones. Una analogía muy utilizada para ejemplificarlo es el jugar un videojuego. Una persona puede ir avanzando por diferentes niveles y guardar su progreso. Y al día siguiente (o días) que retome el juego, puede continuar exactamente en el punto donde se quedó. Git hace exactamente eso, solo que en lugar de guardar el progreso en un videojuego, almacena el código de un proyecto de desarrollo."
   ]
  },
  {
   "attachments": {},
   "cell_type": "markdown",
   "metadata": {},
   "source": [
    "### 2. ¿Cómo funciona Git? <a id='como_funciona_git'></a>"
   ]
  },
  {
   "attachments": {},
   "cell_type": "markdown",
   "metadata": {},
   "source": [
    "En un proyecto de desarrollo de código estamos acostumbrados a mantener carpetas, y dentro de esas carpetas, archivos. Así como carpetas dentro de carpetas que nos permiten mantener ordenado nuestro código. Git mantiene una “recursive data structure” definida por *trees* y *blobs*, donde los *trees* equivalen a carpetas/folders y los *blobs* equivalen a archivos. De igual manera, puedo tener *trees* dentro de otros *trees* y *blobs* dentro de *trees*."
   ]
  },
  {
   "attachments": {},
   "cell_type": "markdown",
   "metadata": {},
   "source": [
    "El *historial de versiones* son copias o *snapshots* del estado de un proyecto en el momento en que dicha copia se creó, como una fotografía. Lo que diferencia a git de otros sistemas similares de control de versiones, es el cómo maneja el almacenamiento de estos snapshots. Cuando se confirma que se quiere generar una copia, git toma esa fotografía del estado actual de todo el código y almacena una referencia a esa fotografía. Los archivos que no han sido modificados no son almacenados nuevamente (para ser más eficientes), si no que se almacena un enlace o *pointer* hacia ese archivo idéntico que ya fue guardado."
   ]
  },
  {
   "attachments": {},
   "cell_type": "markdown",
   "metadata": {},
   "source": [
    "Git maneja entonces el almacenamiento de datos como una secuencia de copias instantáneas, donde cada nuevo estado apunta hacia el anterior."
   ]
  },
  {
   "attachments": {},
   "cell_type": "markdown",
   "metadata": {},
   "source": [
    "<img src=\"images/01_apunta_anterior.png\" style=\"display: block; margin: 0 auto\" />"
   ]
  },
  {
   "attachments": {},
   "cell_type": "markdown",
   "metadata": {},
   "source": [
    "Pero la estructura no se debe mantener forzozamente lineal. En un proyecto de desarrollo, es muy común que las nuevas implementaciones y características se trabajen de forma paralela. Es aquí donde se hace un *branching* del código donde cada *branch* o rama es el entorno de trabajo para estos desarrollos en paralelo. Posteriormente ambas ramas pueden unirse (*merge*) para generar una nueva versión que contenga ambas características desarrolladas."
   ]
  },
  {
   "attachments": {},
   "cell_type": "markdown",
   "metadata": {},
   "source": [
    "<style>\n",
    "img[src*='#center'] { \n",
    "    display: block;\n",
    "    margin: auto;\n",
    "}\n",
    "</style>\n",
    "\n",
    "![img02](images/02_branching_merging.png#center)"
   ]
  },
  {
   "attachments": {},
   "cell_type": "markdown",
   "metadata": {},
   "source": [
    "Cada snapshot contiene también metadatos: quién lo hizo, qué se hizo. Información que está en *este* snapshot pero no en el anterior. Y cada snapshot recibe un hash que lo identifica."
   ]
  },
  {
   "attachments": {},
   "cell_type": "markdown",
   "metadata": {},
   "source": [
    "<style>\n",
    "img[src*='#center'] { \n",
    "    display: block;\n",
    "    margin: auto;\n",
    "}\n",
    "</style>\n",
    " \n",
    " ![img03](images/03_hash.png#center)"
   ]
  },
  {
   "attachments": {},
   "cell_type": "markdown",
   "metadata": {},
   "source": [
    "## 3. Comandos <a id='comandos'></a>"
   ]
  },
  {
   "attachments": {},
   "cell_type": "markdown",
   "metadata": {},
   "source": [
    "Para convertir nuestro folder de desarrollo en repositorio:"
   ]
  },
  {
   "cell_type": "code",
   "execution_count": null,
   "metadata": {},
   "outputs": [],
   "source": [
    "!git init"
   ]
  },
  {
   "attachments": {},
   "cell_type": "markdown",
   "metadata": {},
   "source": [
    "Para conocer el estado actual de nuestro repositorio:"
   ]
  },
  {
   "cell_type": "code",
   "execution_count": 13,
   "metadata": {},
   "outputs": [
    {
     "name": "stdout",
     "output_type": "stream",
     "text": [
      "On branch main\n",
      "Your branch is up to date with 'origin/main'.\n",
      "\n",
      "nothing to commit, working tree clean\n"
     ]
    }
   ],
   "source": [
    "!git status"
   ]
  },
  {
   "attachments": {},
   "cell_type": "markdown",
   "metadata": {},
   "source": [
    "Con el comando *git add* uno le indica a git qué cambios incluir en el próximo snapshot:"
   ]
  },
  {
   "cell_type": "code",
   "execution_count": 14,
   "metadata": {},
   "outputs": [
    {
     "name": "stderr",
     "output_type": "stream",
     "text": [
      "warning: LF will be replaced by CRLF in HojaDeTrabajo1.ipynb.\n",
      "The file will have its original line endings in your working directory\n"
     ]
    }
   ],
   "source": [
    "!git add HojaDeTrabajo1.ipynb"
   ]
  },
  {
   "attachments": {},
   "cell_type": "markdown",
   "metadata": {},
   "source": [
    "Con el comando anterior se incluye el archivo *HojaDeTrabajo1.ipynb* en el siguiente snapshot que se tome, el cual se genera a partir del comando *git commit*. Junto a este comando se debe agregar un comentario descriptivo acerca de los cambios efectuados en el código."
   ]
  },
  {
   "cell_type": "code",
   "execution_count": 16,
   "metadata": {},
   "outputs": [
    {
     "name": "stdout",
     "output_type": "stream",
     "text": [
      "[main 708be7c] mensaje asociado al commit\n",
      " 1 file changed, 47 insertions(+), 1 deletion(-)\n"
     ]
    }
   ],
   "source": [
    "!git commit -m \"mensaje asociado al commit\""
   ]
  },
  {
   "attachments": {},
   "cell_type": "markdown",
   "metadata": {},
   "source": [
    "Y ejecutamos *git push* para subir estos cambios al repositorio central"
   ]
  },
  {
   "cell_type": "code",
   "execution_count": 17,
   "metadata": {},
   "outputs": [
    {
     "name": "stderr",
     "output_type": "stream",
     "text": [
      "To https://github.com/am23006810/HojaDeTrabajo01.git\n",
      "   ed312e3..708be7c  main -> main\n"
     ]
    }
   ],
   "source": [
    "!git push"
   ]
  },
  {
   "attachments": {},
   "cell_type": "markdown",
   "metadata": {},
   "source": [
    "Para conocer el status actual de nuestro repositorio podemos correr el comando *git status*:"
   ]
  },
  {
   "cell_type": "code",
   "execution_count": 18,
   "metadata": {},
   "outputs": [
    {
     "name": "stdout",
     "output_type": "stream",
     "text": [
      "On branch main\n",
      "Your branch is up to date with 'origin/main'.\n",
      "\n",
      "Changes not staged for commit:\n",
      "  (use \"git add <file>...\" to update what will be committed)\n",
      "  (use \"git restore <file>...\" to discard changes in working directory)\n",
      "\tmodified:   HojaDeTrabajo1.ipynb\n",
      "\n",
      "no changes added to commit (use \"git add\" and/or \"git commit -a\")\n"
     ]
    }
   ],
   "source": [
    "!git status"
   ]
  },
  {
   "attachments": {},
   "cell_type": "markdown",
   "metadata": {},
   "source": [
    "El comando *git log --all* nos muestra el historial de cambios dentro de nuestro repositorio"
   ]
  },
  {
   "cell_type": "code",
   "execution_count": 20,
   "metadata": {},
   "outputs": [
    {
     "name": "stdout",
     "output_type": "stream",
     "text": [
      "commit 708be7c2e1c94e8f4fd8f821f430e589ba6402a9\n",
      "Author: am23006810 <23006810@galileo.edu>\n",
      "Date:   Fri Feb 10 23:41:01 2023 -0600\n",
      "\n",
      "    mensaje asociado al commit\n",
      "\n",
      "commit ed312e33ebe03e259eef5292a1d707a3e0138c97\n",
      "Author: am23006810 <23006810@galileo.edu>\n",
      "Date:   Fri Feb 10 21:10:33 2023 -0600\n",
      "\n",
      "    comandos\n",
      "\n",
      "commit 0120f27f1e3d4f54bedbdcd8f18b7390c2177729\n",
      "Author: am23006810 <23006810@galileo.edu>\n",
      "Date:   Fri Feb 10 20:26:56 2023 -0600\n",
      "\n",
      "    prueba imagenes 2\n",
      "\n",
      "commit 11556f1bb91d80f6f464e1286073360129b7c1d2\n",
      "Author: am23006810 <23006810@galileo.edu>\n",
      "Date:   Fri Feb 10 20:23:02 2023 -0600\n",
      "\n",
      "    prueba imagenes\n",
      "\n",
      "commit add898f4725211e1ea81c9a05494c85facaebe6f\n",
      "Author: am23006810 <23006810@galileo.edu>\n",
      "Date:   Fri Feb 10 20:18:59 2023 -0600\n",
      "\n",
      "    prueba imagenes\n",
      "\n",
      "commit 4ff4f94f3bd2b480f33f50d35d07226cddd7cd4b\n",
      "Author: am23006810 <23006810@galileo.edu>\n",
      "Date:   Fri Feb 10 20:14:47 2023 -0600\n",
      "\n",
      "    prueba imagenes\n",
      "\n",
      "commit 158b6fac4d246ca1633219fb8e429796903e76d6\n",
      "Author: am23006810 <23006810@galileo.edu>\n",
      "Date:   Fri Feb 10 20:09:33 2023 -0600\n",
      "\n",
      "    prueba imagenes\n",
      "\n",
      "commit ce74834e87ff62800ab8b4023eac845974a36a90\n",
      "Author: am23006810 <124539159+am23006810@users.noreply.github.com>\n",
      "Date:   Fri Feb 10 19:52:14 2023 -0600\n",
      "\n",
      "    primer commit\n"
     ]
    }
   ],
   "source": [
    "!git log --all"
   ]
  },
  {
   "attachments": {},
   "cell_type": "markdown",
   "metadata": {},
   "source": [
    "El comando *git diff* puede mostrar qué cambios existen comparado a lo que apunte el HEAD, o bien, especificar en el comando un pointer hacia un snapshot en específico. HEAD se refiere al commit en el que estamos posicionados en cada momento."
   ]
  },
  {
   "cell_type": "code",
   "execution_count": 21,
   "metadata": {},
   "outputs": [
    {
     "name": "stdout",
     "output_type": "stream",
     "text": [
      "diff --git a/HojaDeTrabajo1.ipynb b/HojaDeTrabajo1.ipynb\n",
      "index 1f846d3..6bd3a33 100644\n",
      "--- a/HojaDeTrabajo1.ipynb\n",
      "+++ b/HojaDeTrabajo1.ipynb\n",
      "@@ -65,7 +65,7 @@\n",
      "    \"cell_type\": \"markdown\",\n",
      "    \"metadata\": {},\n",
      "    \"source\": [\n",
      "-    \"<img src=\\\"images/01_apunta_anterior.png\\\" />\"\n",
      "+    \"<img src=\\\"images/01_apunta_anterior.png\\\" style=\\\"display: block; margin: 0 auto\\\" />\"\n",
      "    ]\n",
      "   },\n",
      "   {\n",
      "@@ -81,7 +81,14 @@\n",
      "    \"cell_type\": \"markdown\",\n",
      "    \"metadata\": {},\n",
      "    \"source\": [\n",
      "-    \"![img02](images/02_branching_merging.png)\"\n",
      "+    \"<style>\\n\",\n",
      "+    \"img[src*='#center'] { \\n\",\n",
      "+    \"    display: block;\\n\",\n",
      "+    \"    margin: auto;\\n\",\n",
      "+    \"}\\n\",\n",
      "+    \"</style>\\n\",\n",
      "+    \"\\n\",\n",
      "+    \"![img02](images/02_branching_merging.png#center)\"\n",
      "    ]\n",
      "   },\n",
      "   {\n",
      "@@ -97,7 +104,14 @@\n",
      "    \"cell_type\": \"markdown\",\n",
      "    \"metadata\": {},\n",
      "    \"source\": [\n",
      "-    \" ![img03](images/03_hash.png)\"\n",
      "+    \"<style>\\n\",\n",
      "+    \"img[src*='#center'] { \\n\",\n",
      "+    \"    display: block;\\n\",\n",
      "+    \"    margin: auto;\\n\",\n",
      "+    \"}\\n\",\n",
      "+    \"</style>\\n\",\n",
      "+    \" \\n\",\n",
      "+    \" ![img03](images/03_hash.png#center)\"\n",
      "    ]\n",
      "   },\n",
      "   {\n",
      "@@ -163,9 +177,18 @@\n",
      "   },\n",
      "   {\n",
      "    \"cell_type\": \"code\",\n",
      "-   \"execution_count\": null,\n",
      "+   \"execution_count\": 14,\n",
      "    \"metadata\": {},\n",
      "-   \"outputs\": [],\n",
      "+   \"outputs\": [\n",
      "+    {\n",
      "+     \"name\": \"stderr\",\n",
      "+     \"output_type\": \"stream\",\n",
      "+     \"text\": [\n",
      "+      \"warning: LF will be replaced by CRLF in HojaDeTrabajo1.ipynb.\\n\",\n",
      "+      \"The file will have its original line endings in your working directory\\n\"\n",
      "+     ]\n",
      "+    }\n",
      "+   ],\n",
      "    \"source\": [\n",
      "     \"!git add HojaDeTrabajo1.ipynb\"\n",
      "    ]\n",
      "@@ -175,8 +198,57 @@\n",
      "    \"cell_type\": \"markdown\",\n",
      "    \"metadata\": {},\n",
      "    \"source\": [\n",
      "-    \"Con el comando anterior se incluiría el archivo *HojaDeTrabajo1.ipynb*\"\n",
      "+    \"Con el comando anterior se incluye el archivo *HojaDeTrabajo1.ipynb* en el siguiente snapshot que se tome, el cual se genera a partir del comando *git commit*. Junto a este comando se debe agregar un comentario descriptivo acerca de los cambios efectuados en el código.\"\n",
      "+   ]\n",
      "+  },\n",
      "+  {\n",
      "+   \"cell_type\": \"code\",\n",
      "+   \"execution_count\": 16,\n",
      "+   \"metadata\": {},\n",
      "+   \"outputs\": [\n",
      "+    {\n",
      "+     \"name\": \"stdout\",\n",
      "+     \"output_type\": \"stream\",\n",
      "+     \"text\": [\n",
      "+      \"[main 708be7c] mensaje asociado al commit\\n\",\n",
      "+      \" 1 file changed, 47 insertions(+), 1 deletion(-)\\n\"\n",
      "+     ]\n",
      "+    }\n",
      "+   ],\n",
      "+   \"source\": [\n",
      "+    \"!git commit -m \\\"mensaje asociado al commit\\\"\"\n",
      "+   ]\n",
      "+  },\n",
      "+  {\n",
      "+   \"attachments\": {},\n",
      "+   \"cell_type\": \"markdown\",\n",
      "+   \"metadata\": {},\n",
      "+   \"source\": [\n",
      "+    \"Y ejecutamos *git push* para subir estos cambios al repositorio central\"\n",
      "+   ]\n",
      "+  },\n",
      "+  {\n",
      "+   \"cell_type\": \"code\",\n",
      "+   \"execution_count\": 17,\n",
      "+   \"metadata\": {},\n",
      "+   \"outputs\": [\n",
      "+    {\n",
      "+     \"name\": \"stderr\",\n",
      "+     \"output_type\": \"stream\",\n",
      "+     \"text\": [\n",
      "+      \"To https://github.com/am23006810/HojaDeTrabajo01.git\\n\",\n",
      "+      \"   ed312e3..708be7c  main -> main\\n\"\n",
      "+     ]\n",
      "+    }\n",
      "+   ],\n",
      "+   \"source\": [\n",
      "+    \"!git push\"\n",
      "    ]\n",
      "+  },\n",
      "+  {\n",
      "+   \"cell_type\": \"markdown\",\n",
      "+   \"metadata\": {},\n",
      "+   \"source\": []\n",
      "   }\n",
      "  ],\n",
      "  \"metadata\": {\n"
     ]
    },
    {
     "name": "stderr",
     "output_type": "stream",
     "text": [
      "warning: LF will be replaced by CRLF in HojaDeTrabajo1.ipynb.\n",
      "The file will have its original line endings in your working directory\n"
     ]
    }
   ],
   "source": [
    "!git diff"
   ]
  },
  {
   "attachments": {},
   "cell_type": "markdown",
   "metadata": {},
   "source": [
    "El comando *git branch* nos permite crear una nueva rama en nuestro proyecto para paralelizar el trabajo"
   ]
  },
  {
   "cell_type": "code",
   "execution_count": 22,
   "metadata": {},
   "outputs": [],
   "source": [
    "!git branch dev"
   ]
  },
  {
   "attachments": {},
   "cell_type": "markdown",
   "metadata": {},
   "source": [
    "Podemos movernos a esta nueva rama utilizando el comando *git checkout*"
   ]
  },
  {
   "cell_type": "code",
   "execution_count": 23,
   "metadata": {},
   "outputs": [
    {
     "name": "stdout",
     "output_type": "stream",
     "text": [
      "M\tHojaDeTrabajo1.ipynb\n"
     ]
    },
    {
     "name": "stderr",
     "output_type": "stream",
     "text": [
      "Switched to branch 'dev'\n"
     ]
    }
   ],
   "source": [
    "!git checkout dev"
   ]
  },
  {
   "cell_type": "code",
   "execution_count": 24,
   "metadata": {},
   "outputs": [
    {
     "name": "stdout",
     "output_type": "stream",
     "text": [
      "On branch dev\n",
      "Changes not staged for commit:\n",
      "  (use \"git add <file>...\" to update what will be committed)\n",
      "  (use \"git restore <file>...\" to discard changes in working directory)\n",
      "\tmodified:   HojaDeTrabajo1.ipynb\n",
      "\n",
      "no changes added to commit (use \"git add\" and/or \"git commit -a\")\n"
     ]
    }
   ],
   "source": [
    "!git status"
   ]
  },
  {
   "attachments": {},
   "cell_type": "markdown",
   "metadata": {},
   "source": [
    "Ahora subiremos archivos a esta rama igual que anteriormente"
   ]
  },
  {
   "cell_type": "code",
   "execution_count": 27,
   "metadata": {},
   "outputs": [
    {
     "name": "stderr",
     "output_type": "stream",
     "text": [
      "warning: LF will be replaced by CRLF in HojaDeTrabajo1.ipynb.\n",
      "The file will have its original line endings in your working directory\n"
     ]
    },
    {
     "name": "stdout",
     "output_type": "stream",
     "text": [
      "[dev 9894bfd] rama dev\n",
      " 1 file changed, 376 insertions(+)\n",
      "Branch 'dev' set up to track remote branch 'dev' from 'origin'.\n"
     ]
    },
    {
     "name": "stderr",
     "output_type": "stream",
     "text": [
      "To https://github.com/am23006810/HojaDeTrabajo01.git\n",
      "   eb6096d..9894bfd  dev -> dev\n"
     ]
    }
   ],
   "source": [
    "!git add .\n",
    "!git commit -m \"rama dev\"\n",
    "!git push --set-upstream origin dev"
   ]
  },
  {
   "attachments": {},
   "cell_type": "markdown",
   "metadata": {},
   "source": [
    "Ahora todos los cambios están en la rama *dev* pero no en la rama *master*. Para unirlas podemos hacer uso del comando *git merge* y que los cambios se vean reflejados en la rama principal."
   ]
  },
  {
   "cell_type": "code",
   "execution_count": 32,
   "metadata": {},
   "outputs": [
    {
     "name": "stderr",
     "output_type": "stream",
     "text": [
      "warning: LF will be replaced by CRLF in HojaDeTrabajo1.ipynb.\n",
      "The file will have its original line endings in your working directory\n"
     ]
    },
    {
     "name": "stdout",
     "output_type": "stream",
     "text": [
      "[dev 0711696] cambios en rama dev\n",
      " 1 file changed, 5 insertions(+), 3 deletions(-)\n",
      "Your branch is ahead of 'origin/main' by 3 commits.\n",
      "  (use \"git push\" to publish your local commits)\n"
     ]
    },
    {
     "name": "stderr",
     "output_type": "stream",
     "text": [
      "Switched to branch 'main'\n"
     ]
    },
    {
     "name": "stdout",
     "output_type": "stream",
     "text": [
      "Updating 971918c..0711696\n",
      "Fast-forward\n",
      " HojaDeTrabajo1.ipynb | 8 +++++---\n",
      " 1 file changed, 5 insertions(+), 3 deletions(-)\n"
     ]
    }
   ],
   "source": [
    "!git add .\n",
    "!git commit -m \"cambios en rama dev\"\n",
    "!git checkout main\n",
    "!git merge dev"
   ]
  },
  {
   "cell_type": "code",
   "execution_count": 33,
   "metadata": {},
   "outputs": [
    {
     "name": "stdout",
     "output_type": "stream",
     "text": [
      "commit 0711696597bf8f4c14139b8bbe5ec152879a803c\n",
      "Author: am23006810 <23006810@galileo.edu>\n",
      "Date:   Sat Feb 11 13:41:06 2023 -0600\n",
      "\n",
      "    cambios en rama dev\n",
      "\n",
      "commit 971918c719aefa4fab22c2dc5b96fbb986f02f53\n",
      "Author: am23006810 <23006810@galileo.edu>\n",
      "Date:   Sat Feb 11 13:36:47 2023 -0600\n",
      "\n",
      "    cambios en dev\n",
      "\n",
      "commit 9894bfdf38dfcccef19112a2cf8b4f46485bffa7\n",
      "Author: am23006810 <23006810@galileo.edu>\n",
      "Date:   Sat Feb 11 13:20:12 2023 -0600\n",
      "\n",
      "    rama dev\n",
      "\n",
      "commit eb6096df753f361696de0eb3874aeaa5d204cb80\n",
      "Author: am23006810 <23006810@galileo.edu>\n",
      "Date:   Sat Feb 11 13:19:13 2023 -0600\n",
      "\n",
      "    rama dev\n",
      "\n",
      "commit 708be7c2e1c94e8f4fd8f821f430e589ba6402a9\n",
      "Author: am23006810 <23006810@galileo.edu>\n",
      "Date:   Fri Feb 10 23:41:01 2023 -0600\n",
      "\n",
      "    mensaje asociado al commit\n",
      "\n",
      "commit ed312e33ebe03e259eef5292a1d707a3e0138c97\n",
      "Author: am23006810 <23006810@galileo.edu>\n",
      "Date:   Fri Feb 10 21:10:33 2023 -0600\n",
      "\n",
      "    comandos\n",
      "\n",
      "commit 0120f27f1e3d4f54bedbdcd8f18b7390c2177729\n",
      "Author: am23006810 <23006810@galileo.edu>\n",
      "Date:   Fri Feb 10 20:26:56 2023 -0600\n",
      "\n",
      "    prueba imagenes 2\n",
      "\n",
      "commit 11556f1bb91d80f6f464e1286073360129b7c1d2\n",
      "Author: am23006810 <23006810@galileo.edu>\n",
      "Date:   Fri Feb 10 20:23:02 2023 -0600\n",
      "\n",
      "    prueba imagenes\n",
      "\n",
      "commit add898f4725211e1ea81c9a05494c85facaebe6f\n",
      "Author: am23006810 <23006810@galileo.edu>\n",
      "Date:   Fri Feb 10 20:18:59 2023 -0600\n",
      "\n",
      "    prueba imagenes\n",
      "\n",
      "commit 4ff4f94f3bd2b480f33f50d35d07226cddd7cd4b\n",
      "Author: am23006810 <23006810@galileo.edu>\n",
      "Date:   Fri Feb 10 20:14:47 2023 -0600\n",
      "\n",
      "    prueba imagenes\n",
      "\n",
      "commit 158b6fac4d246ca1633219fb8e429796903e76d6\n",
      "Author: am23006810 <23006810@galileo.edu>\n",
      "Date:   Fri Feb 10 20:09:33 2023 -0600\n",
      "\n",
      "    prueba imagenes\n",
      "\n",
      "commit ce74834e87ff62800ab8b4023eac845974a36a90\n",
      "Author: am23006810 <124539159+am23006810@users.noreply.github.com>\n",
      "Date:   Fri Feb 10 19:52:14 2023 -0600\n",
      "\n",
      "    primer commit\n"
     ]
    }
   ],
   "source": [
    "!git log --all"
   ]
  },
  {
   "cell_type": "code",
   "execution_count": null,
   "metadata": {},
   "outputs": [],
   "source": []
  }
 ],
 "metadata": {
  "kernelspec": {
   "display_name": "base",
   "language": "python",
   "name": "python3"
  },
  "language_info": {
   "codemirror_mode": {
    "name": "ipython",
    "version": 3
   },
   "file_extension": ".py",
   "mimetype": "text/x-python",
   "name": "python",
   "nbconvert_exporter": "python",
   "pygments_lexer": "ipython3",
   "version": "3.9.13"
  },
  "orig_nbformat": 4,
  "vscode": {
   "interpreter": {
    "hash": "578391f24f30e8e82ef419a95afa64c2c3d451ab37de2ecf9d13acddd173971b"
   }
  }
 },
 "nbformat": 4,
 "nbformat_minor": 2
}
